{
  "nbformat": 4,
  "nbformat_minor": 0,
  "metadata": {
    "colab": {
      "name": "ASDF",
      "version": "0.3.2",
      "provenance": [],
      "collapsed_sections": []
    },
    "kernelspec": {
      "name": "python3",
      "display_name": "Python 3"
    },
    "accelerator": "GPU"
  },
  "cells": [
    {
      "metadata": {
        "id": "UVncqscfDOzu",
        "colab_type": "code",
        "outputId": "95b3230c-91fa-4af8-a1b2-bf930cb2398b",
        "colab": {
          "base_uri": "https://localhost:8080/",
          "height": 54
        }
      },
      "cell_type": "code",
      "source": [
        "from keras.preprocessing.text import Tokenizer\n",
        "from keras.preprocessing.sequence import pad_sequences\n",
        "from keras.models import Sequential\n",
        "from keras.layers import Dense, Flatten, LSTM, Conv1D, MaxPooling1D, Dropout, Activation\n",
        "from keras.layers.embeddings import Embedding\n",
        "\n",
        "import nltk\n",
        "import time\n",
        "import string\n",
        "import numpy as np\n",
        "import pandas as pd\n",
        "import html,re\n",
        "from nltk.corpus import stopwords\n",
        "from nltk import word_tokenize\n",
        "from nltk.stem.wordnet import WordNetLemmatizer\n",
        "from nltk.stem.porter import *\n",
        "from sklearn.model_selection import train_test_split\n",
        "\n",
        "import plotly.offline as py\n",
        "import plotly.graph_objs as go\n",
        "py.init_notebook_mode(connected=True)\n",
        "\n",
        "from google.colab import drive\n",
        "drive.mount('/content/drive/')"
      ],
      "execution_count": 0,
      "outputs": [
        {
          "output_type": "stream",
          "text": [
            "Using TensorFlow backend.\n"
          ],
          "name": "stderr"
        },
        {
          "output_type": "display_data",
          "data": {
            "text/html": [
              "<script>requirejs.config({paths: { 'plotly': ['https://cdn.plot.ly/plotly-latest.min']},});if(!window.Plotly) {{require(['plotly'],function(plotly) {window.Plotly=plotly;});}}</script>"
            ],
            "text/plain": [
              "<IPython.core.display.HTML object>"
            ]
          },
          "metadata": {
            "tags": []
          }
        },
        {
          "output_type": "stream",
          "text": [
            "Drive already mounted at /content/drive/; to attempt to forcibly remount, call drive.mount(\"/content/drive/\", force_remount=True).\n"
          ],
          "name": "stdout"
        }
      ]
    },
    {
      "metadata": {
        "id": "lgm7b2WjDTw7",
        "colab_type": "code",
        "outputId": "9bf02e49-f437-41e5-ddc3-13b59a9b78b9",
        "colab": {
          "base_uri": "https://localhost:8080/",
          "height": 54
        }
      },
      "cell_type": "code",
      "source": [
        "nltk.download('stopwords')\n",
        "stopwords = nltk.corpus.stopwords.words(\"english\")\n",
        "stopwords.extend('rt')"
      ],
      "execution_count": 0,
      "outputs": [
        {
          "output_type": "stream",
          "text": [
            "[nltk_data] Downloading package stopwords to /root/nltk_data...\n",
            "[nltk_data]   Package stopwords is already up-to-date!\n"
          ],
          "name": "stdout"
        }
      ]
    },
    {
      "metadata": {
        "id": "bAxW3o8WDlsG",
        "colab_type": "code",
        "outputId": "50cdba58-db0a-45b3-89a9-c7ef4793ef06",
        "colab": {
          "base_uri": "https://localhost:8080/",
          "height": 90
        }
      },
      "cell_type": "code",
      "source": [
        "#Sorting out the comments\n",
        "\n",
        "TwComments = pd.read_csv ('/content/drive/My Drive/Extras/tweetsbitcoin.csv',delimiter=\",\", index_col=None)\n",
        "TwComments = TwComments.dropna() \n",
        "TwComments=TwComments.drop_duplicates()\n",
        "TwComments=TwComments.sort_values(['date','time'], ascending=[True,True])"
      ],
      "execution_count": 0,
      "outputs": [
        {
          "output_type": "stream",
          "text": [
            "/usr/local/lib/python3.6/dist-packages/IPython/core/interactiveshell.py:2718: DtypeWarning:\n",
            "\n",
            "Columns (4) have mixed types. Specify dtype option on import or set low_memory=False.\n",
            "\n"
          ],
          "name": "stderr"
        }
      ]
    },
    {
      "metadata": {
        "id": "GcYIsYAfd6v-",
        "colab_type": "code",
        "colab": {}
      },
      "cell_type": "code",
      "source": [
        "i = TwComments[(TwComments.date == '2017-09-30')].index\n",
        "TwComments = TwComments.drop(i)\n",
        "TwComments[\"DateTime\"]=pd.to_datetime(TwComments['date'] + ' ' + TwComments['time'])\n",
        "TwComments[\"hour\"] = TwComments.DateTime.dt.hour\n",
        "TwComments[\"day\"] = TwComments.DateTime.dt.weekday_name\n",
        "TwComments[\"DateTime\"] = TwComments.DateTime.values.astype(np.int64) // 10 ** 9\n",
        "TwComments[\"TimeDiff\"]= TwComments[\"DateTime\"] - (TwComments[\"DateTime\"] % 86400)\n",
        "TwComments = TwComments[TwComments.TimeDiff > 0]"
      ],
      "execution_count": 0,
      "outputs": []
    },
    {
      "metadata": {
        "id": "VnOiPAzCDphh",
        "colab_type": "code",
        "colab": {}
      },
      "cell_type": "code",
      "source": [
        "startTime = int(round(time.time()*60))\n",
        "tcomm=pd.DataFrame()\n",
        "grouped_terms = TwComments.groupby([\"TimeDiff\"])"
      ],
      "execution_count": 0,
      "outputs": []
    },
    {
      "metadata": {
        "id": "-wj71Qd-D2mx",
        "colab_type": "code",
        "colab": {}
      },
      "cell_type": "code",
      "source": [
        "#This is done to combine the tweets in that hour into a list\n",
        "i = 0\n",
        "tweets = []\n",
        "for name, group in grouped_terms:\n",
        "  t = []\n",
        "  for row, data in group.iterrows():\n",
        "    t.append(data['tweet'])\n",
        "  tweets.append(''.join(t))"
      ],
      "execution_count": 0,
      "outputs": []
    },
    {
      "metadata": {
        "id": "KUP2covyEYTL",
        "colab_type": "code",
        "colab": {}
      },
      "cell_type": "code",
      "source": [
        "Price = pd.read_csv ('/content/drive/My Drive/Extras/1Daybinanceprices.csv',delimiter=\"\\t\", index_col=None)"
      ],
      "execution_count": 0,
      "outputs": []
    },
    {
      "metadata": {
        "id": "pmMFLkCdE3FN",
        "colab_type": "code",
        "colab": {}
      },
      "cell_type": "code",
      "source": [
        "Price[\"Date\"] = pd.to_datetime(Price['ClTime'], unit = 'ms')\n",
        "Price = Price.sort_values(['OpTime'], ascending=True)"
      ],
      "execution_count": 0,
      "outputs": []
    },
    {
      "metadata": {
        "id": "St_qvU6FFXo2",
        "colab_type": "code",
        "colab": {}
      },
      "cell_type": "code",
      "source": [
        "def preprocess(tweets):\n",
        "    t = html.unescape(tweets)\n",
        "    z = lambda x: re.compile('\\#').sub('', re.compile('RT @').sub('@', x).strip())\n",
        "    t = z(t)\n",
        "    tweet = ' '.join(re.sub(\"(@[_A-Za-z0-9]+)|([^0-9A-Za-z \\t])|(\\w+:\\/\\/\\S+)\",\" \",t).split())\n",
        "    return tweet\n",
        "\n",
        "#Tokenizing the tweets\n",
        "\n",
        "def tokenizer(tweets):\n",
        "    tweet = \" \".join(re.split(\"[^a-zA-Z.,!?]*\", tweets.lower())).strip()\n",
        "    stemmer = PorterStemmer()\n",
        "    tweets = [stemmer.stem(tweet.lower()) for tweet in tweets.split()]\n",
        "    return tweets\n",
        "\n",
        "def basic_tokenizer(tweet):\n",
        "    #Same as tokenize but without the stemmer\n",
        "    tweet = \" \".join(re.split(\"[^a-zA-Z.,!?]*\", tweet.lower())).strip()\n",
        "    return tweet.split()"
      ],
      "execution_count": 0,
      "outputs": []
    },
    {
      "metadata": {
        "id": "P3HgNscaK06H",
        "colab_type": "code",
        "outputId": "ee3cbc9f-c442-44c0-e863-200af98b57e8",
        "colab": {
          "base_uri": "https://localhost:8080/",
          "height": 90
        }
      },
      "cell_type": "code",
      "source": [
        "for i,t in enumerate(tweets):\n",
        "  tweets[i] = tokenizer(preprocess(t))"
      ],
      "execution_count": 0,
      "outputs": [
        {
          "output_type": "stream",
          "text": [
            "/usr/lib/python3.6/re.py:212: FutureWarning:\n",
            "\n",
            "split() requires a non-empty pattern match.\n",
            "\n"
          ],
          "name": "stderr"
        }
      ]
    },
    {
      "metadata": {
        "id": "4mITaOKXK2fj",
        "colab_type": "code",
        "colab": {}
      },
      "cell_type": "code",
      "source": [
        "vocabulary_size = 1000000\n",
        "tokenizer = Tokenizer(num_words= vocabulary_size)\n",
        "tokenizer.fit_on_texts(tweets)\n",
        "\n",
        "sequences = tokenizer.texts_to_sequences(tweets)\n",
        "data = pad_sequences(sequences, maxlen=15000)"
      ],
      "execution_count": 0,
      "outputs": []
    },
    {
      "metadata": {
        "id": "4BUGAL_2S4FW",
        "colab_type": "code",
        "colab": {}
      },
      "cell_type": "code",
      "source": [
        "Price['PriceDiff'] = Price['Close']-Price['Open']"
      ],
      "execution_count": 0,
      "outputs": []
    },
    {
      "metadata": {
        "id": "ykfN1Q-uZG9n",
        "colab_type": "code",
        "colab": {}
      },
      "cell_type": "code",
      "source": [
        "price_diff = []\n",
        "for p in Price['PriceDiff']:\n",
        "  if p >= 0:\n",
        "    price_diff.append(1)\n",
        "  else:\n",
        "    price_diff.append(0)"
      ],
      "execution_count": 0,
      "outputs": []
    },
    {
      "metadata": {
        "id": "tbD9YLwCZrWH",
        "colab_type": "code",
        "colab": {}
      },
      "cell_type": "code",
      "source": [
        "X_train, X_test, y_train, y_test = train_test_split(data, price_diff, test_size=0.1, shuffle=False)"
      ],
      "execution_count": 0,
      "outputs": []
    },
    {
      "metadata": {
        "id": "qCb_HIRqUT8b",
        "colab_type": "code",
        "outputId": "38e98131-065a-434c-8bd4-32ee45be84d8",
        "colab": {
          "base_uri": "https://localhost:8080/",
          "height": 246
        }
      },
      "cell_type": "code",
      "source": [
        "model = Sequential()\n",
        "model.add(Embedding(1000000, 100, input_length=15000))\n",
        "model.add(LSTM(100, dropout=0.2, recurrent_dropout=0.2))\n",
        "model.add(Dense(1, activation='sigmoid'))\n",
        "model.compile(loss='mean_squared_error', optimizer='adam', metrics=['accuracy'])"
      ],
      "execution_count": 0,
      "outputs": [
        {
          "output_type": "error",
          "ename": "NameError",
          "evalue": "ignored",
          "traceback": [
            "\u001b[0;31m---------------------------------------------------------------------------\u001b[0m",
            "\u001b[0;31mNameError\u001b[0m                                 Traceback (most recent call last)",
            "\u001b[0;32m<ipython-input-1-b9a663c9ab49>\u001b[0m in \u001b[0;36m<module>\u001b[0;34m()\u001b[0m\n\u001b[0;32m----> 1\u001b[0;31m \u001b[0mmodel\u001b[0m \u001b[0;34m=\u001b[0m \u001b[0mSequential\u001b[0m\u001b[0;34m(\u001b[0m\u001b[0;34m)\u001b[0m\u001b[0;34m\u001b[0m\u001b[0;34m\u001b[0m\u001b[0m\n\u001b[0m\u001b[1;32m      2\u001b[0m \u001b[0mmodel\u001b[0m\u001b[0;34m.\u001b[0m\u001b[0madd\u001b[0m\u001b[0;34m(\u001b[0m\u001b[0mEmbedding\u001b[0m\u001b[0;34m(\u001b[0m\u001b[0;36m1000000\u001b[0m\u001b[0;34m,\u001b[0m \u001b[0;36m100\u001b[0m\u001b[0;34m,\u001b[0m \u001b[0minput_length\u001b[0m\u001b[0;34m=\u001b[0m\u001b[0;36m15000\u001b[0m\u001b[0;34m)\u001b[0m\u001b[0;34m)\u001b[0m\u001b[0;34m\u001b[0m\u001b[0;34m\u001b[0m\u001b[0m\n\u001b[1;32m      3\u001b[0m \u001b[0mmodel\u001b[0m\u001b[0;34m.\u001b[0m\u001b[0madd\u001b[0m\u001b[0;34m(\u001b[0m\u001b[0mLSTM\u001b[0m\u001b[0;34m(\u001b[0m\u001b[0;36m100\u001b[0m\u001b[0;34m,\u001b[0m \u001b[0mdropout\u001b[0m\u001b[0;34m=\u001b[0m\u001b[0;36m0.2\u001b[0m\u001b[0;34m,\u001b[0m \u001b[0mrecurrent_dropout\u001b[0m\u001b[0;34m=\u001b[0m\u001b[0;36m0.2\u001b[0m\u001b[0;34m)\u001b[0m\u001b[0;34m)\u001b[0m\u001b[0;34m\u001b[0m\u001b[0;34m\u001b[0m\u001b[0m\n\u001b[1;32m      4\u001b[0m \u001b[0mmodel\u001b[0m\u001b[0;34m.\u001b[0m\u001b[0madd\u001b[0m\u001b[0;34m(\u001b[0m\u001b[0mDense\u001b[0m\u001b[0;34m(\u001b[0m\u001b[0;36m1\u001b[0m\u001b[0;34m,\u001b[0m \u001b[0mactivation\u001b[0m\u001b[0;34m=\u001b[0m\u001b[0;34m'sigmoid'\u001b[0m\u001b[0;34m)\u001b[0m\u001b[0;34m)\u001b[0m\u001b[0;34m\u001b[0m\u001b[0;34m\u001b[0m\u001b[0m\n\u001b[1;32m      5\u001b[0m \u001b[0mmodel\u001b[0m\u001b[0;34m.\u001b[0m\u001b[0mcompile\u001b[0m\u001b[0;34m(\u001b[0m\u001b[0mloss\u001b[0m\u001b[0;34m=\u001b[0m\u001b[0;34m'mean_squared_error'\u001b[0m\u001b[0;34m,\u001b[0m \u001b[0moptimizer\u001b[0m\u001b[0;34m=\u001b[0m\u001b[0;34m'adam'\u001b[0m\u001b[0;34m,\u001b[0m \u001b[0mmetrics\u001b[0m\u001b[0;34m=\u001b[0m\u001b[0;34m[\u001b[0m\u001b[0;34m'accuracy'\u001b[0m\u001b[0;34m]\u001b[0m\u001b[0;34m)\u001b[0m\u001b[0;34m\u001b[0m\u001b[0;34m\u001b[0m\u001b[0m\n",
            "\u001b[0;31mNameError\u001b[0m: name 'Sequential' is not defined"
          ]
        }
      ]
    },
    {
      "metadata": {
        "id": "9SEceW7KUcD8",
        "colab_type": "code",
        "outputId": "6ff6e1cb-79dc-45e0-bb9e-d200e9033318",
        "colab": {
          "base_uri": "https://localhost:8080/",
          "height": 403
        }
      },
      "cell_type": "code",
      "source": [
        "model.fit(X_train, y_train, epochs=10)"
      ],
      "execution_count": 0,
      "outputs": [
        {
          "output_type": "stream",
          "text": [
            "Epoch 1/10\n",
            "328/328 [==============================] - 485s 1s/step - loss: 0.0047 - acc: 0.9970\n",
            "Epoch 2/10\n",
            "328/328 [==============================] - 488s 1s/step - loss: 0.0037 - acc: 1.0000\n",
            "Epoch 3/10\n",
            "328/328 [==============================] - 480s 1s/step - loss: 0.0030 - acc: 1.0000\n",
            "Epoch 4/10\n",
            "328/328 [==============================] - 492s 1s/step - loss: 0.0022 - acc: 1.0000\n",
            "Epoch 5/10\n",
            "328/328 [==============================] - 489s 1s/step - loss: 0.0021 - acc: 1.0000\n",
            "Epoch 6/10\n",
            "328/328 [==============================] - 478s 1s/step - loss: 0.0029 - acc: 1.0000\n",
            "Epoch 7/10\n",
            "328/328 [==============================] - 480s 1s/step - loss: 0.0014 - acc: 1.0000\n",
            "Epoch 8/10\n",
            "328/328 [==============================] - 491s 1s/step - loss: 0.0013 - acc: 1.0000\n",
            "Epoch 9/10\n",
            "328/328 [==============================] - 490s 1s/step - loss: 0.0016 - acc: 1.0000\n",
            "Epoch 10/10\n",
            "328/328 [==============================] - 478s 1s/step - loss: 0.0011 - acc: 1.0000\n"
          ],
          "name": "stdout"
        },
        {
          "output_type": "execute_result",
          "data": {
            "text/plain": [
              "<keras.callbacks.History at 0x7f7930a5fb38>"
            ]
          },
          "metadata": {
            "tags": []
          },
          "execution_count": 33
        }
      ]
    },
    {
      "metadata": {
        "id": "-MLT3HetUd7i",
        "colab_type": "code",
        "colab": {}
      },
      "cell_type": "code",
      "source": [
        "y = model.predict(X_test)"
      ],
      "execution_count": 0,
      "outputs": []
    },
    {
      "metadata": {
        "id": "n0L5ZBCGURbT",
        "colab_type": "code",
        "colab": {}
      },
      "cell_type": "code",
      "source": [
        "t = y\n",
        "for i,z in enumerate(y):\n",
        "  if z>0.4:\n",
        "    t[i]=1\n",
        "  else:\n",
        "    t[i]=0"
      ],
      "execution_count": 0,
      "outputs": []
    },
    {
      "metadata": {
        "id": "tloI1wSZUce0",
        "colab_type": "code",
        "outputId": "c61dea18-3402-49a9-9d08-5c1081166654",
        "colab": {
          "base_uri": "https://localhost:8080/",
          "height": 35
        }
      },
      "cell_type": "code",
      "source": [
        "t = list(map(int, t))\n",
        "print(t)\n",
        "su = 0"
      ],
      "execution_count": 0,
      "outputs": [
        {
          "output_type": "stream",
          "text": [
            "[1, 0, 1, 1, 1, 1, 1, 0, 1, 0, 0, 1, 1, 1, 0, 0, 1, 1, 0, 0, 1, 0, 1, 1, 0, 1, 1, 0, 1, 0, 0, 1, 1, 0, 1, 0, 0]\n"
          ],
          "name": "stdout"
        }
      ]
    },
    {
      "metadata": {
        "id": "hyzwilRGAILt",
        "colab_type": "code",
        "outputId": "02090d16-58e2-4208-b400-b5ea3e62f3b0",
        "colab": {
          "base_uri": "https://localhost:8080/",
          "height": 35
        }
      },
      "cell_type": "code",
      "source": [
        "print(23/37)"
      ],
      "execution_count": 0,
      "outputs": [
        {
          "output_type": "stream",
          "text": [
            "0.6216216216216216\n"
          ],
          "name": "stdout"
        }
      ]
    },
    {
      "metadata": {
        "id": "a965RGjqAiBv",
        "colab_type": "code",
        "outputId": "761e5b7d-cfb3-42c4-c373-573a002612e2",
        "colab": {
          "base_uri": "https://localhost:8080/",
          "height": 35
        }
      },
      "cell_type": "code",
      "source": [
        "print(y_test)"
      ],
      "execution_count": 0,
      "outputs": [
        {
          "output_type": "stream",
          "text": [
            "[1, 0, 1, 1, 0, 0, 1, 1, 1, 0, 1, 0, 0, 0, 0, 1, 1, 0, 1, 1, 0, 1, 0, 0, 1, 1, 1, 1, 0, 0, 0, 0, 1, 1, 0, 0, 1]\n"
          ],
          "name": "stdout"
        }
      ]
    },
    {
      "metadata": {
        "id": "D88T0XeajJPa",
        "colab_type": "code",
        "colab": {}
      },
      "cell_type": "code",
      "source": [
        " "
      ],
      "execution_count": 0,
      "outputs": []
    }
  ]
}